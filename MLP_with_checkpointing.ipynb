{
  "cells": [
    {
      "cell_type": "markdown",
      "source": [
        "# Checkpointing\n",
        "\n",
        "Your task is to implement checkpointing for a MLP using NumPy.\n",
        "\n",
        "You are free to use the implementation of a MLP and the backpropagation algorithm that you have developed during lab sessions.\n",
        "\n",
        "The key takeaway from this task is that with checkpointing we can trade off the computational resources needed to compute the forward pass of the network for the memory requirement needed to perform a backward pass in the network, which is often a major bottleneck when training large networks. In plain english, we can slightly increase the time required for training our network to save some of our GPU's precious memory.\n",
        "\n",
        "## What is checkpointing?\n",
        "\n",
        "The aim of checkpointing is to save every $n$-th layer's (e.g. every 2-nd layer's) forward result (instead of saving every layer's forward result as in plain backpropagation) and use these checkpoints for recomputing the forward pass of the network upon doing a backward pass. Checkpoint layers are kept in memory after the forward pass, while the remaining activations are recomputed at most once. After being recomputed, the non-checkpoint layers are kept in memory until they are no longer required."
      ],
      "metadata": {
        "collapsed": false,
        "id": "F1OV5AvOFete"
      }
    },
    {
      "cell_type": "markdown",
      "source": [
        "# What should be done\n",
        "\n",
        "1. Take the implementation a MLP trained with backpropagation. Analyze the algorithm with respect to the memory that is used by the algorithm with respect to the number of hidden layers.\n",
        "\n",
        "2. Implement a class NetworkWithCheckpointing that inherits from the Network class defined during lab sessions by:\n",
        "    a) implementing a method `forward_between_checkpoints` that will recompute the forward pass of the network using one of the checkpointed layers\n",
        "    b) override the method `backprop` to use only checkpointed layers and otherwise compute the activations using `forward_between_checkpoints` method and keep it in memory until no longer needed.\n",
        "\n",
        "3. Train your network with checkpoinintg on MNIST. Compare running times and memory usage with respect to the network without checkpointing.\n"
      ],
      "metadata": {
        "collapsed": false,
        "id": "JL1EIQ1RFeti"
      }
    },
    {
      "cell_type": "markdown",
      "source": [
        "# Implement Checkpointing for a MLP"
      ],
      "metadata": {
        "collapsed": false,
        "id": "Q6YzBUPVFetj"
      }
    },
    {
      "cell_type": "code",
      "execution_count": null,
      "outputs": [],
      "source": [
        "import random\n",
        "import numpy as np\n",
        "import tqdm\n",
        "import matplotlib.pyplot as plt\n",
        "import itertools\n",
        "import time\n",
        "from torchvision import datasets, transforms"
      ],
      "metadata": {
        "id": "TPp77RdNFetk"
      }
    },
    {
      "cell_type": "code",
      "execution_count": null,
      "outputs": [
        {
          "output_type": "stream",
          "name": "stdout",
          "text": [
            "--2022-11-21 03:39:29--  https://s3.amazonaws.com/img-datasets/mnist.npz\n",
            "Resolving s3.amazonaws.com (s3.amazonaws.com)... 54.231.128.128, 54.231.140.8, 54.231.166.136, ...\n",
            "Connecting to s3.amazonaws.com (s3.amazonaws.com)|54.231.128.128|:443... connected.\n",
            "HTTP request sent, awaiting response... 200 OK\n",
            "Length: 11490434 (11M) [application/octet-stream]\n",
            "Saving to: ‘mnist.npz’\n",
            "\n",
            "mnist.npz           100%[===================>]  10.96M  12.7MB/s    in 0.9s    \n",
            "\n",
            "2022-11-21 03:39:31 (12.7 MB/s) - ‘mnist.npz’ saved [11490434/11490434]\n",
            "\n"
          ]
        }
      ],
      "source": [
        "!wget -O mnist.npz https://s3.amazonaws.com/img-datasets/mnist.npz"
      ],
      "metadata": {
        "id": "RgbgmzWtFetm",
        "outputId": "15fa570d-8206-4195-a1e4-e6746279e5a6",
        "colab": {
          "base_uri": "https://localhost:8080/"
        }
      }
    },
    {
      "cell_type": "code",
      "execution_count": null,
      "outputs": [],
      "source": [
        "# Let's read the mnist dataset\n",
        "\n",
        "def load_mnist(path='mnist.npz'):\n",
        "    with np.load(path) as f:\n",
        "        x_train, _y_train = f['x_train'], f['y_train']\n",
        "        x_test, _y_test = f['x_test'], f['y_test']\n",
        "\n",
        "    x_train = x_train.reshape(-1, 28 * 28) / 255.\n",
        "    x_test = x_test.reshape(-1, 28 * 28) / 255.\n",
        "\n",
        "    y_train = np.zeros((_y_train.shape[0], 10))\n",
        "    y_train[np.arange(_y_train.shape[0]), _y_train] = 1\n",
        "\n",
        "    y_test = np.zeros((_y_test.shape[0], 10))\n",
        "    y_test[np.arange(_y_test.shape[0]), _y_test] = 1\n",
        "\n",
        "    return (x_train, y_train), (x_test, y_test)\n",
        "\n",
        "(x_train, y_train), (x_test, y_test) = load_mnist()"
      ],
      "metadata": {
        "id": "2U1w3YXkFetn"
      }
    },
    {
      "cell_type": "code",
      "source": [
        "from typing import TypeVar, Generic, Tuple, Union, Optional, Callable, List, Any, Dict, Iterable\n",
        "\n",
        "Shape = TypeVar(\"Shape\")\n",
        "\n",
        "class NDArray(np.ndarray, Generic[Shape]):\n",
        "    pass\n",
        "\n",
        "def print_shapes(*args):\n",
        "    print(\"\\n\", list(map(lambda x: x.shape, args)))"
      ],
      "metadata": {
        "id": "AtksB_VpZ6ik"
      },
      "execution_count": null,
      "outputs": []
    },
    {
      "cell_type": "code",
      "source": [
        "def sigmoid(z: NDArray['B, N, 1']):\n",
        "    return 1.0 / (1.0 + np.exp(-z))\n",
        "\n",
        "def sigmoid_prime(z: NDArray['B, N, 1']):\n",
        "    return sigmoid(z) * (1 - sigmoid(z))\n",
        "\n",
        "def softmax(z: NDArray['B, N, 1']):\n",
        "    denominator = np.sum(np.exp(z), 1)\n",
        "    squeezed_result: NDArray['B, N'] = np.squeeze(np.exp(z)) / denominator\n",
        "    return np.expand_dims(squeezed_result, squeezed_result.ndim)"
      ],
      "metadata": {
        "id": "hHE1gB_IZxwy"
      },
      "execution_count": null,
      "outputs": []
    },
    {
      "cell_type": "markdown",
      "source": [
        "# Base network implementation"
      ],
      "metadata": {
        "id": "LjnFi6oBRvjs"
      }
    },
    {
      "cell_type": "markdown",
      "source": [
        "Our base network uses softmax as activation of the final layer.\n",
        "\n",
        "Does not use L2 regularization, momentum, nor dropout\n",
        "\n",
        "It saves both outputs before and after activation for each layer."
      ],
      "metadata": {
        "id": "Lip1R62eQRW9"
      }
    },
    {
      "cell_type": "code",
      "execution_count": null,
      "outputs": [
        {
          "output_type": "stream",
          "name": "stderr",
          "text": [
            "100%|██████████| 50/50 [01:09<00:00,  1.39s/it]\n"
          ]
        },
        {
          "output_type": "display_data",
          "data": {
            "text/plain": [
              "<Figure size 432x288 with 1 Axes>"
            ],
            "image/png": "[encoded data removed]"
          },
          "metadata": {
            "needs_background": "light"
          }
        }
      ],
      "source": [
        "class Network(object):\n",
        "    def __init__(self, sizes):\n",
        "        # initialize biases and weights with random normal distr.\n",
        "        # weights are indexed by target node first\n",
        "        self.num_layers = len(sizes)\n",
        "        assert self.num_layers > 0\n",
        "        self.sizes = sizes\n",
        "        self.biases = [np.random.randn(y, 1) for y in sizes[1:]]\n",
        "        self.weights = [np.random.randn(y, x) for x, y in zip(sizes[:-1], sizes[1:])]\n",
        "        self.hidden_layers_idxes = range(1, self.num_layers)\n",
        "\n",
        "    def is_last_layer(self, l):\n",
        "        return l == self.num_layers - 1\n",
        "\n",
        "    def calculate_before(self, previous_after: NDArray['B, N(l - 1), 1'], w: NDArray['N(l), N(l - 1)'], b: NDArray['N(l)']) -> NDArray['B, N(l), 1']:\n",
        "        return (w @ previous_after) + b\n",
        "\n",
        "    def calculate_after(self, l, before: NDArray['B, N(l), 1']) -> NDArray['B, N(l), 1']:\n",
        "        return softmax(before) if self.is_last_layer(l) else sigmoid(before)\n",
        "\n",
        "    def forward_step(self, l, previous_after: NDArray['B, N(l - 1), 1'], w: NDArray['N(l), N(l - 1)'], b: NDArray['B, N(l), 1']):\n",
        "        before = self.calculate_before(previous_after, w, b)\n",
        "        return self.calculate_after(l, before)\n",
        "\n",
        "    def calculate_nabla_after(self, weight: NDArray['N(l), N(l - 1)'], nabla_before: NDArray['B, N(l), 1']) -> NDArray['B, N(l - 1), 1']:\n",
        "        return weight.T @ nabla_before\n",
        "\n",
        "    def calculate_nabla_b(self, nabla_before: NDArray['B, N(l), 1']) -> NDArray['N(l), 1']:\n",
        "        return np.sum(nabla_before, 0)\n",
        "\n",
        "    def calculate_nabla_w(self, nabla_before: NDArray['B, N(l), 1'], previous_after: NDArray['B, N(l - 1), 1']) -> NDArray['N(l), N(l - 1)']:\n",
        "        return np.squeeze(nabla_before).T @  np.squeeze(previous_after)\n",
        "\n",
        "    def cost_derivative(self, output_activations: NDArray['B, N(l), 1'], y: NDArray['B, N(l), 1']) -> NDArray['B, N(l), 1']:\n",
        "        return (output_activations - y)\n",
        "\n",
        "    def get_outputs_from_forward_pass(self, after: NDArray['B, N(0), 1']):\n",
        "        afters = [after]\n",
        "        befores = []\n",
        "        for l, w, b in zip(self.hidden_layers_idxes, self.weights, self.biases):\n",
        "            before = self.calculate_before(after, w, b)\n",
        "            befores.append(before)\n",
        "            after = self.calculate_after(l, before)\n",
        "            afters.append(after)\n",
        "        return afters, befores\n",
        "\n",
        "    def get_params_deltas_from_backward_pass(self, afters, befores, y):\n",
        "        # Remove activated output of the last layer\n",
        "        output = afters.pop()\n",
        "        nablas_b = []\n",
        "        nablas_w = []\n",
        "        for l, biase, weight, before, previous_after in reversed(list(zip(self.hidden_layers_idxes, self.biases, self.weights, befores, afters))):\n",
        "\n",
        "            # Gradient of loss over output before activation for l-th layer\n",
        "            nabla_before: NDArray['B, N(l), 1'] = (\n",
        "                self.cost_derivative(output, y)\n",
        "                if self.is_last_layer(l)\n",
        "                else nabla_after * sigmoid_prime(before)\n",
        "            )\n",
        "\n",
        "            # Gradient of loss over output after activation for (l - 1)-th layer\n",
        "            nabla_after = self.calculate_nabla_after(weight, nabla_before)\n",
        "\n",
        "            # Gradient of biases for l-th layer\n",
        "            nablas_b.append(self.calculate_nabla_b(nabla_before))\n",
        "\n",
        "            # Gradient of weights for l-th layer\n",
        "            nablas_w.append(self.calculate_nabla_w(nabla_before, previous_after))\n",
        "        return reversed(nablas_b), reversed(nablas_w)\n",
        "\n",
        "    def backprop(self, x: NDArray['B, N, 1'], y: NDArray['B, N, 1']) -> (\n",
        "        Tuple[\n",
        "            Iterable[NDArray['N(l), N(l-1)']], # Weights gradients\n",
        "            Iterable[NDArray['N(l), N(l-1)']]  # Biases gradients\n",
        "        ]\n",
        "    ):\n",
        "        # Go forward remembering all values before activation for layers 0, ..., L\n",
        "        # and after activation for layers 1, ..., L\n",
        "        afters, befores = self.get_outputs_from_forward_pass(x)\n",
        "\n",
        "        # Go backward from the final cost applying backpropagation\n",
        "        return self.get_params_deltas_from_backward_pass(afters, befores, y)\n",
        "\n",
        "    def update_mini_batch(self, x_mini_batch, y_mini_batch, eta):\n",
        "        # Update networks weights and biases by applying a single step\n",
        "        # of gradient descent using backpropagation to compute the gradient.\n",
        "        # The gradient is computed for a mini_batch.\n",
        "        # eta is the learning rate\n",
        "\n",
        "        nablas_b, nablas_w = self.backprop(x_mini_batch.reshape(-1, 784, 1), y_mini_batch.reshape(-1, 10, 1))\n",
        "        self.weights = [w - eta / len(x_mini_batch) * nw for w, nw in zip(self.weights, nablas_w)]\n",
        "        self.biases = [b - eta / len(x_mini_batch) * nb for b, nb in zip(self.biases, nablas_b)]\n",
        "\n",
        "    def SGD(self, training_data, epochs, mini_batch_size, eta, test_data, use_tqdm = True):\n",
        "        x_train, y_train = training_data\n",
        "        accuracy = []\n",
        "        epochs = tqdm.tqdm(range(epochs)) if use_tqdm else range(epochs)\n",
        "        for j in epochs:\n",
        "            for i in range(x_train.shape[0] // mini_batch_size):\n",
        "                x_mini_batch = x_train[i*mini_batch_size:(i*mini_batch_size + mini_batch_size)]\n",
        "                y_mini_batch = y_train[i*mini_batch_size:(i*mini_batch_size + mini_batch_size)]\n",
        "                self.update_mini_batch(x_mini_batch, y_mini_batch, eta)\n",
        "            if test_data:\n",
        "                accuracy.append(self.evaluate(test_data))\n",
        "        if test_data:\n",
        "            plt.plot(np.arange(1, len(accuracy) + 1), accuracy)\n",
        "\n",
        "    def feedforward(self, a: NDArray['B, N(0), 1']) -> NDArray['B, N(L), 1']:\n",
        "        # Run the network on batch of inputs\n",
        "        for l, b, w in zip(self.hidden_layers_idxes, self.biases, self.weights):\n",
        "            a = self.forward_step(l, a, w, b)\n",
        "        return a\n",
        "\n",
        "    def evaluate(self, test_data: NDArray['2, B, N']):\n",
        "        x_test_data: NDArray['B, N, 1'] = test_data[0].reshape(-1, 784, 1)\n",
        "        y_test_data: NDArray['B, N, 1'] = test_data[1].reshape(-1, 10, 1)\n",
        "\n",
        "        targets: NDArray['B, 1'] = np.argmax(y_test_data, 1)\n",
        "        test_results: NDArray['B, 1'] = np.argmax(self.feedforward(x_test_data), 1)\n",
        "\n",
        "        # return accuracy\n",
        "        return np.mean(targets == test_results)\n",
        "\n",
        "network = Network([784,30,10])\n",
        "network.SGD((x_train, y_train), epochs=50, mini_batch_size=100, eta=3., test_data=(x_test, y_test))"
      ],
      "metadata": {
        "id": "CQEYrbr3Fetp",
        "colab": {
          "base_uri": "https://localhost:8080/",
          "height": 282
        },
        "outputId": "ff15f90f-8a35-4549-bcf9-b8af2f7c7a36"
      }
    },
    {
      "cell_type": "markdown",
      "source": [
        "# Implementation of network with checkpointing"
      ],
      "metadata": {
        "id": "3Kh6Vf5AR1z-"
      }
    },
    {
      "cell_type": "markdown",
      "source": [
        "Checkpointing network saves outputs after activation for every n-th layer.\n",
        "\n",
        "During backward pass, if encounters the layer $l$ for which there is no saved output after activation, it computates output activations for all layers starting from the nearest layer with checkpoint up to the layer $l$ and saves those outputs in cache.\n",
        "\n",
        "After particular output is no longer needed it is removed from the cache."
      ],
      "metadata": {
        "id": "Z-xO552yz9-0"
      }
    },
    {
      "cell_type": "code",
      "execution_count": null,
      "outputs": [
        {
          "output_type": "stream",
          "name": "stderr",
          "text": [
            "100%|██████████| 50/50 [01:12<00:00,  1.46s/it]\n"
          ]
        },
        {
          "output_type": "display_data",
          "data": {
            "text/plain": [
              "<Figure size 432x288 with 1 Axes>"
            ],
            "image/png": "[encoded data removed]"
          },
          "metadata": {
            "needs_background": "light"
          }
        }
      ],
      "source": [
        "class NetworkWithCheckpointing(Network):\n",
        "    def __init__(self, sizes, checkpoint_every_nth_layer: int = 0, *args, **kwargs):\n",
        "        super().__init__(sizes, *args, **kwargs)\n",
        "        self.cached_afters: Dict[int, NDArray['B, N, 1']] = dict()\n",
        "        self.checkpoint_every_nth_layer = checkpoint_every_nth_layer\n",
        "\n",
        "    def nearest_checkpoint_idx(self, l):\n",
        "        return l - (l % self.checkpoint_every_nth_layer)\n",
        "\n",
        "    def forward_up_to_layer(self, layer_idx):\n",
        "        # Computes outputs after activation for layers with indexes\n",
        "        # from the interval [nearest_checkpoin_idx(layer_idx), layer_idx]\n",
        "        nearest_checkpoint_idx = self.nearest_checkpoint_idx(layer_idx)\n",
        "        output = self.cached_afters.get(nearest_checkpoint_idx)\n",
        "        for l in range(nearest_checkpoint_idx + 1, layer_idx + 1):\n",
        "            paremeter_pos_in_list = l - 1\n",
        "            output = self.forward_step(l, output, self.weights[paremeter_pos_in_list], self.biases[paremeter_pos_in_list])\n",
        "            self.cached_afters[l] = output\n",
        "\n",
        "    def get_cached_after_or_calculate(self, l):\n",
        "        if l not in self.cached_afters:\n",
        "            self.forward_up_to_layer(l)\n",
        "        return self.cached_afters.get(l)\n",
        "\n",
        "    def cache_afters_during_forward_pass(self, after: NDArray['B, N(0), 1']):\n",
        "        self.cached_afters[0] = after\n",
        "        for l, w, b in zip(self.hidden_layers_idxes, self.weights, self.biases):\n",
        "            after = self.forward_step(l, after, w, b)\n",
        "            if (l % self.checkpoint_every_nth_layer) == 0:\n",
        "                self.cached_afters[l] = after\n",
        "\n",
        "    def get_params_deltas_from_backward_pass(self, y):\n",
        "        nablas_b = []\n",
        "        nablas_w = []\n",
        "        for l, biase, weight in reversed(list(zip(self.hidden_layers_idxes, self.biases, self.weights))):\n",
        "\n",
        "            # Gradient of loss over output before activation for l-th layer\n",
        "            after = self.get_cached_after_or_calculate(l)\n",
        "            nabla_before: NDArray['B, N(l), 1'] = (\n",
        "                self.cost_derivative(after, y) if self.is_last_layer(l)\n",
        "\n",
        "                # since we do not have outputs before activation we are using sigmoid_prime but in terms of sigmoid\n",
        "                else nabla_after * (after * (1 - after))\n",
        "            )\n",
        "            # It is the last time we neeed this activation vector\n",
        "            self.cached_afters.pop(l)\n",
        "\n",
        "            # Gradient of loss over output after activation for (l - 1)-th layer\n",
        "            nabla_after = self.calculate_nabla_after(weight, nabla_before)\n",
        "\n",
        "            # Gradient of biases for l-th layer\n",
        "            nablas_b.append(self.calculate_nabla_b(nabla_before))\n",
        "\n",
        "            # Gradient of weights for l-th layer\n",
        "            previous_after: NDArray['B, N(l - 1), 1'] = self.get_cached_after_or_calculate(l - 1)\n",
        "            nablas_w.append(self.calculate_nabla_w(nabla_before, previous_after))\n",
        "\n",
        "        return reversed(nablas_b), reversed(nablas_w)\n",
        "\n",
        "    def backprop(self, x: NDArray['B, N, 1'], y: NDArray['B, N, 1']) -> (\n",
        "        Tuple[\n",
        "            Iterable[NDArray['N(l), N(l-1)']], # Weights gradients\n",
        "            Iterable[NDArray['N(l), N(l-1)']]  # Biases gradients\n",
        "        ]\n",
        "    ):\n",
        "        # Go forward remembering only those outputs after activation that should be checkpointed\n",
        "        self.cache_afters_during_forward_pass(x)\n",
        "\n",
        "        # Go backward from the final cost applying backpropagation\n",
        "        return self.get_params_deltas_from_backward_pass(y)\n",
        "\n",
        "network = NetworkWithCheckpointing([784, 30, 10], 2)\n",
        "network.SGD((x_train, y_train), epochs=50, mini_batch_size=100, eta=3., test_data=(x_test, y_test))"
      ],
      "metadata": {
        "id": "ih3MzBGxFetq",
        "colab": {
          "base_uri": "https://localhost:8080/",
          "height": 282
        },
        "outputId": "03cd82f3-c676-4027-9975-27482cfb6ef7"
      }
    },
    {
      "cell_type": "markdown",
      "source": [
        "# Tests"
      ],
      "metadata": {
        "id": "zjKitDcpSCK3"
      }
    },
    {
      "cell_type": "code",
      "source": [
        "TEN_LAYERS = [784, 30, 30, 30, 30, 30, 30, 30, 10]\n",
        "SEVEN_LAYERS = [784, 30, 30, 30, 30, 10]\n",
        "THREE_LAYERS = [784, 30, 10]"
      ],
      "metadata": {
        "id": "cCwIF4i12XrE"
      },
      "execution_count": null,
      "outputs": []
    },
    {
      "cell_type": "markdown",
      "source": [
        "## Test whether it works for arbitrary number of layers and checkpointing frequency"
      ],
      "metadata": {
        "id": "p4d2s-wwQ23i"
      }
    },
    {
      "cell_type": "markdown",
      "source": [
        "3 layers, checkpointing every output"
      ],
      "metadata": {
        "id": "XHZrQU-YROyX"
      }
    },
    {
      "cell_type": "code",
      "source": [
        "network = NetworkWithCheckpointing(THREE_LAYERS, 1)\n",
        "network.SGD((x_train, y_train), epochs=2, mini_batch_size=100, eta=3., test_data=(x_test, y_test))"
      ],
      "metadata": {
        "colab": {
          "base_uri": "https://localhost:8080/",
          "height": 282
        },
        "id": "QppQTK_nQ2RF",
        "outputId": "1f810a47-dda8-4436-c26a-848dbde1e4c7"
      },
      "execution_count": null,
      "outputs": [
        {
          "output_type": "stream",
          "name": "stderr",
          "text": [
            "100%|██████████| 2/2 [00:03<00:00,  1.68s/it]\n"
          ]
        },
        {
          "output_type": "display_data",
          "data": {
            "text/plain": [
              "<Figure size 432x288 with 1 Axes>"
            ],
            "image/png": "[encoded data removed]"
          },
          "metadata": {
            "needs_background": "light"
          }
        }
      ]
    },
    {
      "cell_type": "markdown",
      "source": [
        "3 layers, checkpointing every 10th output"
      ],
      "metadata": {
        "id": "fzvuxecoRoP-"
      }
    },
    {
      "cell_type": "code",
      "source": [
        "network = NetworkWithCheckpointing(THREE_LAYERS, 10)\n",
        "network.SGD((x_train, y_train), epochs=2, mini_batch_size=100, eta=3., test_data=(x_test, y_test))"
      ],
      "metadata": {
        "colab": {
          "base_uri": "https://localhost:8080/",
          "height": 283
        },
        "outputId": "4f083c4f-d1a6-4dbe-aa55-7cdb44a78e25",
        "id": "2iFWWMnHRoP_"
      },
      "execution_count": null,
      "outputs": [
        {
          "output_type": "stream",
          "name": "stderr",
          "text": [
            "100%|██████████| 2/2 [00:03<00:00,  1.58s/it]\n"
          ]
        },
        {
          "output_type": "display_data",
          "data": {
            "text/plain": [
              "<Figure size 432x288 with 1 Axes>"
            ],
            "image/png": "[encoded data removed]"
          },
          "metadata": {
            "needs_background": "light"
          }
        }
      ]
    },
    {
      "cell_type": "markdown",
      "source": [
        "7 layers, checkpointing every output"
      ],
      "metadata": {
        "id": "KKbt3n-ERozx"
      }
    },
    {
      "cell_type": "code",
      "source": [
        "network = NetworkWithCheckpointing(SEVEN_LAYERS, 1)\n",
        "network.SGD((x_train, y_train), epochs=2, mini_batch_size=100, eta=3., test_data=(x_test, y_test))"
      ],
      "metadata": {
        "colab": {
          "base_uri": "https://localhost:8080/",
          "height": 285
        },
        "outputId": "2e8bb128-76b1-4a8a-9ec9-ab3def44d2b0",
        "id": "ftPC8OopRo0R"
      },
      "execution_count": null,
      "outputs": [
        {
          "output_type": "stream",
          "name": "stderr",
          "text": [
            "100%|██████████| 2/2 [00:03<00:00,  1.66s/it]\n"
          ]
        },
        {
          "output_type": "display_data",
          "data": {
            "text/plain": [
              "<Figure size 432x288 with 1 Axes>"
            ],
            "image/png": "[encoded data removed]"
          },
          "metadata": {
            "needs_background": "light"
          }
        }
      ]
    },
    {
      "cell_type": "markdown",
      "source": [
        "7 layers, checkpointing every second output"
      ],
      "metadata": {
        "id": "mKedlRMUSde3"
      }
    },
    {
      "cell_type": "code",
      "source": [
        "network = NetworkWithCheckpointing(SEVEN_LAYERS, 2)\n",
        "network.SGD((x_train, y_train), epochs=2, mini_batch_size=100, eta=3., test_data=(x_test, y_test))"
      ],
      "metadata": {
        "colab": {
          "base_uri": "https://localhost:8080/",
          "height": 284
        },
        "outputId": "fe66aae1-49f8-4aba-e90a-6bf1b592601a",
        "id": "Of9UMZgPSde4"
      },
      "execution_count": null,
      "outputs": [
        {
          "output_type": "stream",
          "name": "stderr",
          "text": [
            "100%|██████████| 2/2 [00:05<00:00,  2.71s/it]\n"
          ]
        },
        {
          "output_type": "display_data",
          "data": {
            "text/plain": [
              "<Figure size 432x288 with 1 Axes>"
            ],
            "image/png": "[encoded data removed]"
          },
          "metadata": {
            "needs_background": "light"
          }
        }
      ]
    },
    {
      "cell_type": "markdown",
      "source": [
        "7 layers, checkpointing every 3rd output"
      ],
      "metadata": {
        "id": "w9jc-_JdSl_g"
      }
    },
    {
      "cell_type": "code",
      "source": [
        "network = NetworkWithCheckpointing(SEVEN_LAYERS, 3)\n",
        "network.SGD((x_train, y_train), epochs=2, mini_batch_size=100, eta=3., test_data=(x_test, y_test))"
      ],
      "metadata": {
        "colab": {
          "base_uri": "https://localhost:8080/",
          "height": 282
        },
        "outputId": "997874d9-14ee-4bf2-ac5e-4ca1a874ab65",
        "id": "Uuou6DcgSl_h"
      },
      "execution_count": null,
      "outputs": [
        {
          "output_type": "stream",
          "name": "stderr",
          "text": [
            "100%|██████████| 2/2 [00:10<00:00,  5.30s/it]\n"
          ]
        },
        {
          "output_type": "display_data",
          "data": {
            "text/plain": [
              "<Figure size 432x288 with 1 Axes>"
            ],
            "image/png": "[encoded data removed]"
          },
          "metadata": {
            "needs_background": "light"
          }
        }
      ]
    },
    {
      "cell_type": "markdown",
      "source": [
        "7 layers, checkpointing every 5th output"
      ],
      "metadata": {
        "id": "ziK8RJg6Sr0w"
      }
    },
    {
      "cell_type": "code",
      "source": [
        "network = NetworkWithCheckpointing(SEVEN_LAYERS, 5)\n",
        "network.SGD((x_train, y_train), epochs=2, mini_batch_size=100, eta=3., test_data=(x_test, y_test))"
      ],
      "metadata": {
        "colab": {
          "base_uri": "https://localhost:8080/",
          "height": 286
        },
        "outputId": "c8012692-52ed-4012-f1e5-8ca7caea016d",
        "id": "Vo59_iLxSr0w"
      },
      "execution_count": null,
      "outputs": [
        {
          "output_type": "stream",
          "name": "stderr",
          "text": [
            "100%|██████████| 2/2 [00:04<00:00,  2.27s/it]\n"
          ]
        },
        {
          "output_type": "display_data",
          "data": {
            "text/plain": [
              "<Figure size 432x288 with 1 Axes>"
            ],
            "image/png": "[encoded data removed]"
          },
          "metadata": {
            "needs_background": "light"
          }
        }
      ]
    },
    {
      "cell_type": "markdown",
      "source": [
        "10 layers, checkpointing every 4th output"
      ],
      "metadata": {
        "id": "lo3_plURSxjR"
      }
    },
    {
      "cell_type": "code",
      "source": [
        "network = NetworkWithCheckpointing(TEN_LAYERS, 4)\n",
        "network.SGD((x_train, y_train), epochs=2, mini_batch_size=100, eta=3., test_data=(x_test, y_test))"
      ],
      "metadata": {
        "colab": {
          "base_uri": "https://localhost:8080/",
          "height": 285
        },
        "outputId": "88bfe017-b019-44c5-ad67-ab0dcd5a6140",
        "id": "G5UDeVl5SxjR"
      },
      "execution_count": null,
      "outputs": [
        {
          "output_type": "stream",
          "name": "stderr",
          "text": [
            "100%|██████████| 2/2 [00:05<00:00,  2.87s/it]\n"
          ]
        },
        {
          "output_type": "display_data",
          "data": {
            "text/plain": [
              "<Figure size 432x288 with 1 Axes>"
            ],
            "image/png": "[encoded data removed]"
          },
          "metadata": {
            "needs_background": "light"
          }
        }
      ]
    },
    {
      "cell_type": "markdown",
      "source": [
        "## Test whether the checkpointing network works as expected"
      ],
      "metadata": {
        "id": "juSRjUZ_zu6Q"
      }
    },
    {
      "cell_type": "code",
      "source": [
        "class CacheMonitoringNetworkWithCheckpointing(NetworkWithCheckpointing):\n",
        "    def __init__(self, layers, checkpoint_every_nth_layer):\n",
        "        super().__init__(layers, checkpoint_every_nth_layer)\n",
        "        self.visited_layers = set()\n",
        "\n",
        "    def get_cache_keys(self):\n",
        "        return list(self.cached_afters.keys())\n",
        "\n",
        "    def cache_afters_during_forward_pass(self, after: NDArray['B, N(0), 1']):\n",
        "        super().cache_afters_during_forward_pass(after)\n",
        "        print(\"CACHE AFTER INITIALIZATION\", self.get_cache_keys(), \"\\n\")\n",
        "\n",
        "    def get_cached_after_or_calculate(self, l):\n",
        "        after = super().get_cached_after_or_calculate(l)\n",
        "        # We may visit one layer twice during the backward pass,\n",
        "        # during computations of parameters for consecutive layers -\n",
        "        # however, after the first and up to the second query for the output of the particular layer,\n",
        "        # algorithm does not modify state of the cache\n",
        "\n",
        "        if l not in self.visited_layers:\n",
        "            print(\"CACHE AFTER QUERY FOR: \", l, \"\\n\", self.get_cache_keys(), \"\\n\")\n",
        "            self.visited_layers.add(l)\n",
        "        return after"
      ],
      "metadata": {
        "id": "6bAJ8ZaE05D_"
      },
      "execution_count": null,
      "outputs": []
    },
    {
      "cell_type": "code",
      "source": [
        "CacheMonitoringNetworkWithCheckpointing(TEN_LAYERS, 4).SGD((x_train, y_train), epochs=1, mini_batch_size=len(x_train), eta=3., test_data=None, use_tqdm=False)"
      ],
      "metadata": {
        "colab": {
          "base_uri": "https://localhost:8080/"
        },
        "id": "Ep_-15tY1q4e",
        "outputId": "42ec60cb-24ac-4618-f566-d4125655eac2"
      },
      "execution_count": null,
      "outputs": [
        {
          "output_type": "stream",
          "name": "stdout",
          "text": [
            "CACHE AFTER INITIALIZATION [0, 4, 8] \n",
            "\n",
            "CACHE AFTER QUERY FOR:  8 \n",
            " [0, 4, 8] \n",
            "\n",
            "CACHE AFTER QUERY FOR:  7 \n",
            " [0, 4, 5, 6, 7] \n",
            "\n",
            "CACHE AFTER QUERY FOR:  6 \n",
            " [0, 4, 5, 6] \n",
            "\n",
            "CACHE AFTER QUERY FOR:  5 \n",
            " [0, 4, 5] \n",
            "\n",
            "CACHE AFTER QUERY FOR:  4 \n",
            " [0, 4] \n",
            "\n",
            "CACHE AFTER QUERY FOR:  3 \n",
            " [0, 1, 2, 3] \n",
            "\n",
            "CACHE AFTER QUERY FOR:  2 \n",
            " [0, 1, 2] \n",
            "\n",
            "CACHE AFTER QUERY FOR:  1 \n",
            " [0, 1] \n",
            "\n",
            "CACHE AFTER QUERY FOR:  0 \n",
            " [0] \n",
            "\n"
          ]
        }
      ]
    },
    {
      "cell_type": "markdown",
      "source": [
        "We can see it does work as expected"
      ],
      "metadata": {
        "id": "WCisH1Sq48_K"
      }
    },
    {
      "cell_type": "markdown",
      "source": [
        "# Comparison"
      ],
      "metadata": {
        "id": "vtIQOa7JTXV8"
      }
    },
    {
      "cell_type": "markdown",
      "source": [
        "## Comparison of training time"
      ],
      "metadata": {
        "id": "dX_LwsnSYSJp"
      }
    },
    {
      "cell_type": "markdown",
      "source": [
        "### Dense checkpointing"
      ],
      "metadata": {
        "id": "O1RgTuW5oJKN"
      }
    },
    {
      "cell_type": "markdown",
      "source": [
        "Three layers of shape THREE_LAYERS"
      ],
      "metadata": {
        "id": "jasM42MHntbG"
      }
    },
    {
      "cell_type": "code",
      "source": [
        "%%time\n",
        "Network(THREE_LAYERS).SGD((x_train, y_train), epochs=10, mini_batch_size=100, eta=3., test_data=None)"
      ],
      "metadata": {
        "colab": {
          "base_uri": "https://localhost:8080/"
        },
        "id": "5Qj-qYNJlw2r",
        "outputId": "e5411625-68d6-410b-d641-9c160696d994"
      },
      "execution_count": null,
      "outputs": [
        {
          "output_type": "stream",
          "name": "stderr",
          "text": [
            "100%|██████████| 10/10 [00:12<00:00,  1.27s/it]"
          ]
        },
        {
          "output_type": "stream",
          "name": "stdout",
          "text": [
            "CPU times: user 11.9 s, sys: 11.1 s, total: 23 s\n",
            "Wall time: 12.7 s\n"
          ]
        },
        {
          "output_type": "stream",
          "name": "stderr",
          "text": [
            "\n"
          ]
        }
      ]
    },
    {
      "cell_type": "code",
      "source": [
        "%%time\n",
        "NetworkWithCheckpointing(THREE_LAYERS, 2).SGD((x_train, y_train), epochs=10, mini_batch_size=100, eta=3., test_data=None)"
      ],
      "metadata": {
        "colab": {
          "base_uri": "https://localhost:8080/"
        },
        "id": "cL-qmr3mY2CX",
        "outputId": "e02ebc3d-3c5f-4b07-b2c5-a9ade67e1869"
      },
      "execution_count": null,
      "outputs": [
        {
          "output_type": "stream",
          "name": "stderr",
          "text": [
            "100%|██████████| 10/10 [00:14<00:00,  1.42s/it]"
          ]
        },
        {
          "output_type": "stream",
          "name": "stdout",
          "text": [
            "CPU times: user 13.7 s, sys: 14 s, total: 27.6 s\n",
            "Wall time: 14.2 s\n"
          ]
        },
        {
          "output_type": "stream",
          "name": "stderr",
          "text": [
            "\n"
          ]
        }
      ]
    },
    {
      "cell_type": "markdown",
      "source": [
        "Seven layers of shape [784, 30 x 4, 10]"
      ],
      "metadata": {
        "id": "On4-0p8dnzQU"
      }
    },
    {
      "cell_type": "code",
      "source": [
        "%%time\n",
        "Network(SEVEN_LAYERS).SGD((x_train, y_train), epochs=10, mini_batch_size=100, eta=3., test_data=None)"
      ],
      "metadata": {
        "colab": {
          "base_uri": "https://localhost:8080/"
        },
        "outputId": "911893ea-a609-434b-b863-8e018fc6ac32",
        "id": "-J9XSFCym7v0"
      },
      "execution_count": null,
      "outputs": [
        {
          "output_type": "stream",
          "name": "stderr",
          "text": [
            "100%|██████████| 10/10 [00:19<00:00,  1.97s/it]"
          ]
        },
        {
          "output_type": "stream",
          "name": "stdout",
          "text": [
            "CPU times: user 20.5 s, sys: 17.9 s, total: 38.4 s\n",
            "Wall time: 19.7 s\n"
          ]
        },
        {
          "output_type": "stream",
          "name": "stderr",
          "text": [
            "\n"
          ]
        }
      ]
    },
    {
      "cell_type": "code",
      "source": [
        "%%time\n",
        "NetworkWithCheckpointing(SEVEN_LAYERS, 2).SGD((x_train, y_train), epochs=10, mini_batch_size=100, eta=3., test_data=None)"
      ],
      "metadata": {
        "colab": {
          "base_uri": "https://localhost:8080/"
        },
        "outputId": "1a568080-dc9f-4283-bb25-138584121e2b",
        "id": "jyiMieaJm7v1"
      },
      "execution_count": null,
      "outputs": [
        {
          "output_type": "stream",
          "name": "stderr",
          "text": [
            "100%|██████████| 10/10 [00:22<00:00,  2.22s/it]"
          ]
        },
        {
          "output_type": "stream",
          "name": "stdout",
          "text": [
            "CPU times: user 19.7 s, sys: 20.1 s, total: 39.8 s\n",
            "Wall time: 22.2 s\n"
          ]
        },
        {
          "output_type": "stream",
          "name": "stderr",
          "text": [
            "\n"
          ]
        }
      ]
    },
    {
      "cell_type": "markdown",
      "source": [
        "Ten layers of shape [784, 30 x 7, 10]"
      ],
      "metadata": {
        "id": "IeyC7jUsn4XD"
      }
    },
    {
      "cell_type": "code",
      "source": [
        "%%time\n",
        "Network(TEN_LAYERS).SGD((x_train, y_train), epochs=10, mini_batch_size=100, eta=3., test_data=None)"
      ],
      "metadata": {
        "colab": {
          "base_uri": "https://localhost:8080/"
        },
        "outputId": "59a80ddb-df1d-4477-b521-4a7175717f87",
        "id": "JVKbwm6rm7_3"
      },
      "execution_count": null,
      "outputs": [
        {
          "output_type": "stream",
          "name": "stderr",
          "text": [
            "100%|██████████| 10/10 [00:27<00:00,  2.77s/it]"
          ]
        },
        {
          "output_type": "stream",
          "name": "stdout",
          "text": [
            "CPU times: user 28.7 s, sys: 25.3 s, total: 54 s\n",
            "Wall time: 27.7 s\n"
          ]
        },
        {
          "output_type": "stream",
          "name": "stderr",
          "text": [
            "\n"
          ]
        }
      ]
    },
    {
      "cell_type": "code",
      "source": [
        "%%time\n",
        "NetworkWithCheckpointing(TEN_LAYERS, 3).SGD((x_train, y_train), epochs=10, mini_batch_size=100, eta=3., test_data=None)"
      ],
      "metadata": {
        "colab": {
          "base_uri": "https://localhost:8080/"
        },
        "outputId": "008974d6-ebf6-4739-a4fb-00f343bdaa15",
        "id": "ThwRNdX7m7_4"
      },
      "execution_count": null,
      "outputs": [
        {
          "output_type": "stream",
          "name": "stderr",
          "text": [
            "100%|██████████| 10/10 [00:28<00:00,  2.87s/it]"
          ]
        },
        {
          "output_type": "stream",
          "name": "stdout",
          "text": [
            "CPU times: user 28.2 s, sys: 25.8 s, total: 54 s\n",
            "Wall time: 28.7 s\n"
          ]
        },
        {
          "output_type": "stream",
          "name": "stderr",
          "text": [
            "\n"
          ]
        }
      ]
    },
    {
      "cell_type": "markdown",
      "source": [
        "For all of the previous tests we can not see much difference between the checkpointed version and base network"
      ],
      "metadata": {
        "id": "WBgd2LDVn_rT"
      }
    },
    {
      "cell_type": "markdown",
      "source": [
        "### Sparse checkpointing"
      ],
      "metadata": {
        "id": "PkmX6_sEoNp3"
      }
    },
    {
      "cell_type": "code",
      "source": [
        "%%time\n",
        "NetworkWithCheckpointing(TEN_LAYERS, 5).SGD((x_train, y_train), epochs=10, mini_batch_size=100, eta=3., test_data=None)"
      ],
      "metadata": {
        "colab": {
          "base_uri": "https://localhost:8080/"
        },
        "id": "n6tbhNBSoT0Q",
        "outputId": "646d1921-bf85-4077-acf7-7e7b74cfdb9f"
      },
      "execution_count": null,
      "outputs": [
        {
          "output_type": "stream",
          "name": "stderr",
          "text": [
            "100%|██████████| 10/10 [00:28<00:00,  2.81s/it]"
          ]
        },
        {
          "output_type": "stream",
          "name": "stdout",
          "text": [
            "CPU times: user 28.2 s, sys: 26.5 s, total: 54.7 s\n",
            "Wall time: 28.1 s\n"
          ]
        },
        {
          "output_type": "stream",
          "name": "stderr",
          "text": [
            "\n"
          ]
        }
      ]
    },
    {
      "cell_type": "markdown",
      "source": [
        "In the implementation of the network with checkpointing every time we encounter a layer $l$ for which we do not have outputs saved, we compute outputs for all layers starting from the layer where the nearest checkpoint resides up to the layer $l$. We cache outputs for layers between checkpoints after computing them, so we do not have to repeat the process after going to the layer before $l$.\n",
        "\n",
        "If we checkpoint every n-th layer, an innnitial computation of checkpoints takes $O$(number_of_layers / n ) computations of outputs.\n",
        "Single computation of outputs between the checkpoints takes $O$(n) computations of outputs, and it can be performed at most number_of_layers / n times.\n",
        "So during the whole backpropagation we perform $O$(number_of_layers(1 + 1/n)) computations of outputs whereas the basic algorithm would perform exactly number_of_layers computations of outputs.\n",
        "\n",
        "We can see that the solution with checkpointing is not drastically worse when it comes to computational complexity, it performs only \\\n",
        "$O$(number_of_layers / n) more computations of outputs."
      ],
      "metadata": {
        "id": "scdU5OHwoy4G"
      }
    },
    {
      "cell_type": "markdown",
      "source": [
        "## Comparison of memory usage"
      ],
      "metadata": {
        "id": "nbUkkiB2sR1h"
      }
    },
    {
      "cell_type": "code",
      "source": [
        "def sum_nbytes_in_outputs(outputs):\n",
        "    return sum(map(lambda output: output.nbytes, outputs))\n",
        "\n",
        "class MemMonitoring():\n",
        "    def __init__(self, *args, **kwargs):\n",
        "        self.max_nbytes = 0\n",
        "\n",
        "    def update_max(self, outputs):\n",
        "        sum_nbytes = sum_nbytes_in_outputs(outputs)\n",
        "        self.max_nbytes = max(self.max_nbytes, sum_nbytes)\n",
        "\n",
        "    def get_max_kb(self):\n",
        "        return self.max_nbytes / 1024 ** 1\n",
        "\n",
        "class MemMonitoringNetwork(Network, MemMonitoring):\n",
        "    def __init__(self, layers):\n",
        "        Network.__init__(self, layers)\n",
        "        MemMonitoring.__init__(self)\n",
        "\n",
        "    def get_outputs_from_forward_pass(self, after: NDArray['B, N(0), 1']):\n",
        "        # Every time we calculate outputs, we measure its cummulative size in bytes\n",
        "        afters, befores = super().get_outputs_from_forward_pass(after)\n",
        "        self.update_max(itertools.chain(afters, befores))\n",
        "        return afters, befores\n",
        "\n",
        "    def SGD(self, training_data, epochs, mini_batch_size, eta, test_data, use_tqdm = True):\n",
        "        super().SGD(training_data, epochs, mini_batch_size, eta, test_data, use_tqdm)\n",
        "        return self.get_max_kb()\n",
        "\n",
        "class MemMonitoringNetworkWithCheckpointing(NetworkWithCheckpointing, MemMonitoring):\n",
        "    def __init__(self, layers, checkpoint_every_nth_layer):\n",
        "        NetworkWithCheckpointing.__init__(self, layers, checkpoint_every_nth_layer)\n",
        "        MemMonitoring.__init__(self)\n",
        "\n",
        "    def cache_afters_during_forward_pass(self, after: NDArray['B, N(0), 1']):\n",
        "        super().cache_afters_during_forward_pass(after)\n",
        "        self.update_max(self.cached_afters.values())\n",
        "\n",
        "    def get_cached_after_or_calculate(self, l):\n",
        "        after = super().get_cached_after_or_calculate(l)\n",
        "        self.update_max(self.cached_afters.values())\n",
        "        return after\n",
        "\n",
        "    def SGD(self, training_data, epochs, mini_batch_size, eta, test_data, use_tqdm = True):\n",
        "        super().SGD(training_data, epochs, mini_batch_size, eta, test_data, use_tqdm)\n",
        "        return self.get_max_kb()"
      ],
      "metadata": {
        "id": "RAiud1iCscZg"
      },
      "execution_count": null,
      "outputs": []
    },
    {
      "cell_type": "markdown",
      "source": [
        "We measure maximal number of KiB of computed outputs for base network and cached outputs for checkpointing network.\n",
        "\n",
        "\n",
        "In theory, if the base network uses M bytes of memory for saving the outputs, the checkpointing network should use\\\n",
        "$O$(M(1 / n +  n  / number_of_layers) / 2).\n",
        "We devide by two because we store only afters, instead of afters and befores.\n",
        "The (M / n) component of the sum is for the intial checkpoints,\n",
        "and the (M * n / number_of_layers) component is for the additional outputs that we may cache after performing the computations of outputs between the checkpoints.\n",
        "  "
      ],
      "metadata": {
        "id": "q9oGUYzCLKwV"
      }
    },
    {
      "cell_type": "markdown",
      "source": [
        "### Dense checkpointing"
      ],
      "metadata": {
        "id": "Bc0RPiyoDqoS"
      }
    },
    {
      "cell_type": "code",
      "source": [
        "def get_theoretical_approximation_of_quotient(number_of_layers, n):\n",
        "    return (1.  / n  + n / number_of_layers) / 2."
      ],
      "metadata": {
        "id": "wy9g7XUhJozJ"
      },
      "execution_count": null,
      "outputs": []
    },
    {
      "cell_type": "markdown",
      "source": [
        "Three layers of shape THREE_LAYERS"
      ],
      "metadata": {
        "id": "nNYX-MwhDqoS"
      }
    },
    {
      "cell_type": "code",
      "source": [
        "base_result = MemMonitoringNetwork(THREE_LAYERS).SGD((x_train, y_train), epochs=1, mini_batch_size=100, eta=3., test_data=None)"
      ],
      "metadata": {
        "colab": {
          "base_uri": "https://localhost:8080/"
        },
        "outputId": "dfc0674b-57f9-4d20-c455-45c0d009f0db",
        "id": "rWlMN81nDqoT"
      },
      "execution_count": null,
      "outputs": [
        {
          "output_type": "stream",
          "name": "stderr",
          "text": [
            "100%|██████████| 1/1 [00:01<00:00,  1.18s/it]\n"
          ]
        }
      ]
    },
    {
      "cell_type": "code",
      "source": [
        "checkpointing_result = MemMonitoringNetworkWithCheckpointing(THREE_LAYERS, 2).SGD((x_train, y_train), epochs=1, mini_batch_size=100, eta=3., test_data=None)\n",
        "checkpointing_result /  base_result, get_theoretical_approximation_of_quotient(3., 2.)"
      ],
      "metadata": {
        "colab": {
          "base_uri": "https://localhost:8080/"
        },
        "outputId": "4cf07adb-b42f-407b-d367-f25529c4a895",
        "id": "HORsu9rdDqoT"
      },
      "execution_count": null,
      "outputs": [
        {
          "output_type": "stream",
          "name": "stderr",
          "text": [
            "100%|██████████| 1/1 [00:01<00:00,  1.44s/it]\n"
          ]
        },
        {
          "output_type": "execute_result",
          "data": {
            "text/plain": [
              "(0.9421296296296297, 0.5833333333333333)"
            ]
          },
          "metadata": {},
          "execution_count": 28
        }
      ]
    },
    {
      "cell_type": "markdown",
      "source": [
        "Seven layers of shape [784, 30 x 4, 10]"
      ],
      "metadata": {
        "id": "iOXdz5-tDqoT"
      }
    },
    {
      "cell_type": "code",
      "source": [
        "base_result = MemMonitoringNetwork(SEVEN_LAYERS).SGD((x_train, y_train), epochs=1, mini_batch_size=100, eta=3., test_data=None)"
      ],
      "metadata": {
        "colab": {
          "base_uri": "https://localhost:8080/"
        },
        "outputId": "820ddfc6-7eb0-426a-cd4d-38d2b3f0fe95",
        "id": "YzliAzV8DqoT"
      },
      "execution_count": null,
      "outputs": [
        {
          "output_type": "stream",
          "name": "stderr",
          "text": [
            "100%|██████████| 1/1 [00:02<00:00,  2.02s/it]\n"
          ]
        }
      ]
    },
    {
      "cell_type": "code",
      "source": [
        "checkpointing_result = MemMonitoringNetworkWithCheckpointing(SEVEN_LAYERS, 2).SGD((x_train, y_train), epochs=1, mini_batch_size=100, eta=3., test_data=None)\n",
        "checkpointing_result /  base_result, get_theoretical_approximation_of_quotient(7., 2.)"
      ],
      "metadata": {
        "colab": {
          "base_uri": "https://localhost:8080/"
        },
        "outputId": "3cc4a3db-28bc-4341-ccbd-cd78ced6239e",
        "id": "XIS60T1iDqoU"
      },
      "execution_count": null,
      "outputs": [
        {
          "output_type": "stream",
          "name": "stderr",
          "text": [
            "100%|██████████| 1/1 [00:03<00:00,  3.10s/it]\n"
          ]
        },
        {
          "output_type": "execute_result",
          "data": {
            "text/plain": [
              "(0.8180076628352491, 0.39285714285714285)"
            ]
          },
          "metadata": {},
          "execution_count": 30
        }
      ]
    },
    {
      "cell_type": "markdown",
      "source": [
        "Ten layers of shape [784, 30 x 7, 10]"
      ],
      "metadata": {
        "id": "oulFa4nGDqoU"
      }
    },
    {
      "cell_type": "code",
      "source": [
        "base_result = MemMonitoringNetwork(TEN_LAYERS).SGD((x_train, y_train), epochs=1, mini_batch_size=100, eta=3., test_data=None)"
      ],
      "metadata": {
        "colab": {
          "base_uri": "https://localhost:8080/"
        },
        "outputId": "e7e58375-d31b-4206-c396-f3e154b04cb7",
        "id": "3kFalC86DqoU"
      },
      "execution_count": null,
      "outputs": [
        {
          "output_type": "stream",
          "name": "stderr",
          "text": [
            "100%|██████████| 1/1 [00:02<00:00,  2.71s/it]\n"
          ]
        }
      ]
    },
    {
      "cell_type": "code",
      "source": [
        "checkpointing_result = MemMonitoringNetworkWithCheckpointing(TEN_LAYERS, 1).SGD((x_train, y_train), epochs=1, mini_batch_size=100, eta=3., test_data=None)\n",
        "checkpointing_result /  base_result"
      ],
      "metadata": {
        "colab": {
          "base_uri": "https://localhost:8080/"
        },
        "outputId": "78da81c8-4e1e-4938-a47b-88bf4ada2a9b",
        "id": "_Ugl5cSdDqoV"
      },
      "execution_count": null,
      "outputs": [
        {
          "output_type": "stream",
          "name": "stderr",
          "text": [
            "100%|██████████| 1/1 [00:01<00:00,  1.98s/it]\n"
          ]
        },
        {
          "output_type": "execute_result",
          "data": {
            "text/plain": [
              "0.8202614379084967"
            ]
          },
          "metadata": {},
          "execution_count": 32
        }
      ]
    },
    {
      "cell_type": "code",
      "source": [
        "checkpointing_result = MemMonitoringNetworkWithCheckpointing(TEN_LAYERS, 3).SGD((x_train, y_train), epochs=1, mini_batch_size=100, eta=3., test_data=None)\n",
        "checkpointing_result / base_result, get_theoretical_approximation_of_quotient(10., 3.)"
      ],
      "metadata": {
        "colab": {
          "base_uri": "https://localhost:8080/"
        },
        "id": "RAbmL0RMEhRJ",
        "outputId": "0aa2548b-439c-4be5-b809-9ceabd0fcd22"
      },
      "execution_count": null,
      "outputs": [
        {
          "output_type": "stream",
          "name": "stderr",
          "text": [
            "100%|██████████| 1/1 [00:02<00:00,  2.69s/it]\n"
          ]
        },
        {
          "output_type": "execute_result",
          "data": {
            "text/plain": [
              "(0.7222222222222222, 0.31666666666666665)"
            ]
          },
          "metadata": {},
          "execution_count": 33
        }
      ]
    },
    {
      "cell_type": "markdown",
      "source": [
        "For all of the previous tests we can not see much difference between the checkpointed version and base network"
      ],
      "metadata": {
        "id": "1L1bM7MWDqoV"
      }
    },
    {
      "cell_type": "markdown",
      "source": [
        "### Sparse checkpointing"
      ],
      "metadata": {
        "id": "Z_5G3Z8nDqoV"
      }
    },
    {
      "cell_type": "code",
      "source": [
        "checkpointing_result = MemMonitoringNetworkWithCheckpointing(TEN_LAYERS, 5).SGD((x_train, y_train), epochs=1, mini_batch_size=100, eta=3., test_data=None)\n",
        "checkpointing_result / base_result, get_theoretical_approximation_of_quotient(10., 5.)"
      ],
      "metadata": {
        "colab": {
          "base_uri": "https://localhost:8080/"
        },
        "outputId": "57e679be-026f-4c86-c1d2-6735d8e337e8",
        "id": "jUPJe78qDqoV"
      },
      "execution_count": null,
      "outputs": [
        {
          "output_type": "stream",
          "name": "stderr",
          "text": [
            "100%|██████████| 1/1 [00:02<00:00,  2.82s/it]\n"
          ]
        },
        {
          "output_type": "execute_result",
          "data": {
            "text/plain": [
              "(0.738562091503268, 0.35)"
            ]
          },
          "metadata": {},
          "execution_count": 34
        }
      ]
    },
    {
      "cell_type": "markdown",
      "source": [
        "\n",
        "From the above examples we can see that the ratio of\\\n",
        "sizeof(cached_outputs) / sizeof(computed_outputs) was the least for the TEN_LAYERS, n = 3 setting.\n",
        "\n",
        "Overall results of our analysis are worrying, either our approximation of the expected quotient is not perfect or we do not measure the memory usage precisely enough."
      ],
      "metadata": {
        "id": "MgMOpKsyNeJ2"
      }
    }
  ],
  "metadata": {
    "kernelspec": {
      "display_name": "Python 3",
      "language": "python",
      "name": "python3"
    },
    "language_info": {
      "codemirror_mode": {
        "name": "ipython",
        "version": 2
      },
      "file_extension": ".py",
      "mimetype": "text/x-python",
      "name": "python",
      "nbconvert_exporter": "python",
      "pygments_lexer": "ipython2",
      "version": "2.7.6"
    },
    "colab": {
      "provenance": []
    }
  },
  "nbformat": 4,
  "nbformat_minor": 0
}